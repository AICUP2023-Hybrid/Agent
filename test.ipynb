{
 "cells": [
  {
   "cell_type": "code",
   "execution_count": 41,
   "id": "initial_id",
   "metadata": {
    "collapsed": true,
    "ExecuteTime": {
     "end_time": "2023-09-10T18:51:24.900096873Z",
     "start_time": "2023-09-10T18:51:22.861969182Z"
    }
   },
   "outputs": [
    {
     "data": {
      "text/plain": "[<matplotlib.lines.Line2D at 0x7f26f8664cd0>]"
     },
     "execution_count": 41,
     "metadata": {},
     "output_type": "execute_result"
    },
    {
     "data": {
      "text/plain": "<Figure size 640x480 with 1 Axes>",
      "image/png": "[encoded data removed]"
     },
     "metadata": {},
     "output_type": "display_data"
    }
   ],
   "source": [
    "from attack_chance import get_chances\n",
    "from matplotlib import pyplot as plt\n",
    "\n",
    "expected_casualty = []\n",
    "for d in range(100):\n",
    "    expected_remain = 0\n",
    "    for pr, prob in get_chances(100, d, 0):\n",
    "        expected_remain += pr[0] * prob\n",
    "    expected_casualty.append(100 - expected_remain)\n",
    "plt.plot(expected_casualty)"
   ]
  },
  {
   "cell_type": "code",
   "execution_count": 47,
   "outputs": [
    {
     "data": {
      "text/plain": "[((4, 0), 0.6867283950617284),\n ((3, 0), 0.18129143804298126),\n ((2, 0), 0.05499173620637098),\n ((1, 1), 0.07698843068891938)]"
     },
     "execution_count": 47,
     "metadata": {},
     "output_type": "execute_result"
    }
   ],
   "source": [
    "get_chances(4, 1, 0)"
   ],
   "metadata": {
    "collapsed": false,
    "ExecuteTime": {
     "end_time": "2023-09-10T19:01:16.939867391Z",
     "start_time": "2023-09-10T19:01:16.896928007Z"
    }
   },
   "id": "6b2a57bd6755016f"
  },
  {
   "cell_type": "code",
   "execution_count": 43,
   "outputs": [
    {
     "data": {
      "text/plain": "7.899928881974907e-08"
     },
     "execution_count": 43,
     "metadata": {},
     "output_type": "execute_result"
    }
   ],
   "source": [
    "s = 0\n",
    "for ps, pos in get_chances(100, 50, 0):\n",
    "    if ps[0] == 1:\n",
    "        s += pos\n",
    "s"
   ],
   "metadata": {
    "collapsed": false,
    "ExecuteTime": {
     "end_time": "2023-09-10T18:52:15.863243563Z",
     "start_time": "2023-09-10T18:52:15.819928595Z"
    }
   },
   "id": "cc027b9cd357ca42"
  },
  {
   "cell_type": "code",
   "execution_count": 45,
   "outputs": [
    {
     "data": {
      "text/plain": "34.413461743062086"
     },
     "execution_count": 45,
     "metadata": {},
     "output_type": "execute_result"
    }
   ],
   "source": [
    "expected_casualty[50]"
   ],
   "metadata": {
    "collapsed": false,
    "ExecuteTime": {
     "end_time": "2023-09-10T18:52:42.366803110Z",
     "start_time": "2023-09-10T18:52:42.358822651Z"
    }
   },
   "id": "d88cf3a5afa37275"
  },
  {
   "cell_type": "code",
   "execution_count": 30,
   "outputs": [],
   "source": [
    "def get_choose(nodes, num):\n",
    "    if num == 0:\n",
    "        yield []\n",
    "    elif len(nodes) == num:\n",
    "        yield nodes\n",
    "    else:\n",
    "        for pos in get_choose(nodes[1:], num):\n",
    "            yield pos\n",
    "        for pos in get_choose(nodes[1:], num - 1):\n",
    "            yield [nodes[0]] + pos"
   ],
   "metadata": {
    "collapsed": false,
    "ExecuteTime": {
     "end_time": "2023-09-10T17:49:29.303243313Z",
     "start_time": "2023-09-10T17:49:29.258949023Z"
    }
   },
   "id": "1536e4f1de01c131"
  },
  {
   "cell_type": "code",
   "execution_count": 37,
   "outputs": [
    {
     "data": {
      "text/plain": "111930"
     },
     "execution_count": 37,
     "metadata": {},
     "output_type": "execute_result"
    }
   ],
   "source": [
    "len(list(get_choose([i for i in range(42)], 4)))"
   ],
   "metadata": {
    "collapsed": false,
    "ExecuteTime": {
     "end_time": "2023-09-10T17:50:27.454162753Z",
     "start_time": "2023-09-10T17:50:27.182177191Z"
    }
   },
   "id": "12ed698845fc23e8"
  }
 ],
 "metadata": {
  "kernelspec": {
   "display_name": "Python 3",
   "language": "python",
   "name": "python3"
  },
  "language_info": {
   "codemirror_mode": {
    "name": "ipython",
    "version": 2
   },
   "file_extension": ".py",
   "mimetype": "text/x-python",
   "name": "python",
   "nbconvert_exporter": "python",
   "pygments_lexer": "ipython2",
   "version": "2.7.6"
  }
 },
 "nbformat": 4,
 "nbformat_minor": 5
}
