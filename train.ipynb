{
 "cells": [
  {
   "cell_type": "code",
   "execution_count": null,
   "outputs": [],
   "source": [
    "from stable_baselines3 import PPO, DQN\n",
    "from stable_baselines3.common.env_util import make_vec_env\n",
    "from clients.deep.deep_env import OnePlayerEnv\n",
    "\n",
    "\n",
    "env = OnePlayerEnv(player_id=1)\n",
    "\n",
    "# Parallel environments\n",
    "# vec_env = make_vec_env(env, n_envs=4)\n",
    "\n",
    "model = DQN(\"MultiInputPolicy\", env, verbose=1, exploration_final_eps=0.5, gamma=1)\n",
    "model.learn(total_timesteps=25000, progress_bar=True)"
   ],
   "metadata": {
    "collapsed": false,
    "is_executing": true
   },
   "id": "c97067d615bc5181"
  },
  {
   "cell_type": "code",
   "execution_count": null,
   "outputs": [],
   "source": [
    "model.save(\"ppo_cartpole\")\n",
    "\n",
    "del model # remove to demonstrate saving and loading\n",
    "\n",
    "model = PPO.load(\"ppo_cartpole\")\n",
    "\n",
    "obs = vec_env.reset()\n",
    "while True:\n",
    "    action, _states = model.predict(obs)\n",
    "    obs, rewards, dones, info = vec_env.step(action)\n",
    "    vec_env.render(\"human\")"
   ],
   "metadata": {
    "collapsed": false
   },
   "id": "d87ac5c91602d1e9"
  }
 ],
 "metadata": {
  "kernelspec": {
   "display_name": "Python 3",
   "language": "python",
   "name": "python3"
  },
  "language_info": {
   "codemirror_mode": {
    "name": "ipython",
    "version": 2
   },
   "file_extension": ".py",
   "mimetype": "text/x-python",
   "name": "python",
   "nbconvert_exporter": "python",
   "pygments_lexer": "ipython2",
   "version": "2.7.6"
  }
 },
 "nbformat": 4,
 "nbformat_minor": 5
}
