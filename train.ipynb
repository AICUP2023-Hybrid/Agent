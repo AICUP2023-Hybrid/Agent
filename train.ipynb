{
 "cells": [
  {
   "cell_type": "code",
   "execution_count": null,
   "id": "initial_id",
   "metadata": {
    "collapsed": true,
    "is_executing": true,
    "ExecuteTime": {
     "start_time": "2023-09-27T10:23:52.404475729Z"
    }
   },
   "outputs": [
    {
     "name": "stdout",
     "output_type": "stream",
     "text": [
      "{'message': 'every thing is ok, you should wait for other players to be ready'}\n",
      "{'message': 'every thing is ok, you should wait for other players to be ready'}\n",
      "{'message': 'every thing is ok, you should wait for other players to be ready'}\n"
     ]
    }
   ],
   "source": [
    "from clients.deep.deep_env import OnePlayerEnv\n",
    "\n",
    "\n",
    "env = OnePlayerEnv(player_id=0)\n",
    "env.reset()"
   ]
  }
 ],
 "metadata": {
  "kernelspec": {
   "display_name": "Python 3",
   "language": "python",
   "name": "python3"
  },
  "language_info": {
   "codemirror_mode": {
    "name": "ipython",
    "version": 2
   },
   "file_extension": ".py",
   "mimetype": "text/x-python",
   "name": "python",
   "nbconvert_exporter": "python",
   "pygments_lexer": "ipython2",
   "version": "2.7.6"
  }
 },
 "nbformat": 4,
 "nbformat_minor": 5
}
